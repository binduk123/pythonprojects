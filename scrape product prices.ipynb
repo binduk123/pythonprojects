{
 "cells": [
  {
   "cell_type": "code",
   "execution_count": 1,
   "id": "1fd39a4b-7fbf-4e46-a948-308fcf9716aa",
   "metadata": {},
   "outputs": [
    {
     "name": "stdout",
     "output_type": "stream",
     "text": [
      "Requirement already satisfied: requests in c:\\users\\webs the word\\appdata\\roaming\\python\\python38\\site-packages (2.31.0)\n",
      "Requirement already satisfied: beautifulsoup4 in c:\\users\\webs the word\\appdata\\roaming\\python\\python38\\site-packages (4.12.3)\n",
      "Requirement already satisfied: charset-normalizer<4,>=2 in c:\\users\\webs the word\\appdata\\roaming\\python\\python38\\site-packages (from requests) (3.3.2)\n",
      "Requirement already satisfied: idna<4,>=2.5 in c:\\users\\webs the word\\appdata\\roaming\\python\\python38\\site-packages (from requests) (3.7)\n",
      "Requirement already satisfied: urllib3<3,>=1.21.1 in c:\\users\\webs the word\\appdata\\roaming\\python\\python38\\site-packages (from requests) (2.2.1)\n",
      "Requirement already satisfied: certifi>=2017.4.17 in c:\\users\\webs the word\\appdata\\roaming\\python\\python38\\site-packages (from requests) (2024.2.2)\n",
      "Requirement already satisfied: soupsieve>1.2 in c:\\users\\webs the word\\appdata\\roaming\\python\\python38\\site-packages (from beautifulsoup4) (2.5)\n",
      "Note: you may need to restart the kernel to use updated packages.\n"
     ]
    }
   ],
   "source": [
    "pip install requests beautifulsoup4"
   ]
  },
  {
   "cell_type": "code",
   "execution_count": 5,
   "id": "906aa828-8841-4642-8377-c406578ecf11",
   "metadata": {},
   "outputs": [
    {
     "name": "stdout",
     "output_type": "stream",
     "text": [
      "Collecting schedule\n",
      "  Downloading schedule-1.2.2-py3-none-any.whl.metadata (3.8 kB)\n",
      "Downloading schedule-1.2.2-py3-none-any.whl (12 kB)\n",
      "Installing collected packages: schedule\n",
      "Successfully installed schedule-1.2.2\n",
      "Note: you may need to restart the kernel to use updated packages.\n"
     ]
    },
    {
     "name": "stderr",
     "output_type": "stream",
     "text": [
      "\n",
      "[notice] A new release of pip is available: 24.0 -> 24.3.1\n",
      "[notice] To update, run: python.exe -m pip install --upgrade pip\n"
     ]
    }
   ],
   "source": [
    "pip install schedule"
   ]
  },
  {
   "cell_type": "code",
   "execution_count": 3,
   "id": "bee56203-1b48-4327-8f7d-e17899e3132a",
   "metadata": {},
   "outputs": [
    {
     "name": "stdout",
     "output_type": "stream",
     "text": [
      "Price for https://www.amazon.in/s?k=waheguru+wall+art+by+BINDU+KAMBOJ&crid=3AD4V4I262QX3&sprefix=waheguru+wall+art+by+bindu+kamboj%2Caps%2C240&ref=nb_sb_noss: 999\n",
      "Price for https://www.amazon.in/Art-Doors-Horizontal-Personalized-Paintings/dp/B0D9LHTWNK/ref=sr_1_1?crid=29MWACATEO5M5&dib=eyJ2IjoiMSJ9.4plPmXLMMz_xND23SffYIC-qzjB84TiZkBeXJjn8md4.SkTDzywDyn5HbA2nSkJk7EIFAnOLLDSf4Fqt0R5mnDw&dib_tag=se&keywords=radha+krishna+by+BINDU+KAMBOJ&qid=1730708859&sprefix=radha+krishna+by+bindu+kamboj%2Caps%2C252&sr=8-1: 849.\n"
     ]
    }
   ],
   "source": [
    "import requests\n",
    "from bs4 import BeautifulSoup\n",
    "import re\n",
    "\n",
    "# Function to get product price from Amazon\n",
    "def get_amazon_price(url):\n",
    "    headers = {\n",
    "        \"User-Agent\": \"Mozilla/5.0 (Windows NT 10.0; Win64; x64) AppleWebKit/537.36 (KHTML, like Gecko) Chrome/91.0.4472.124 Safari/537.36\",\n",
    "        \"Accept-Language\": \"en-US,en;q=0.9\",\n",
    "    }\n",
    "    response = requests.get(url, headers=headers)\n",
    "    soup = BeautifulSoup(response.content, \"html.parser\")\n",
    "    \n",
    "    # Try extracting price using potential Amazon price tags\n",
    "    price = None\n",
    "    price_span = soup.find(\"span\", {\"class\": \"a-price-whole\"})\n",
    "    if price_span:\n",
    "        price = price_span.get_text(strip=True)\n",
    "    return price\n",
    "\n",
    "# Function to get product price from eBay\n",
    "def get_ebay_price(url):\n",
    "    headers = {\n",
    "        \"User-Agent\": \"Mozilla/5.0 (Windows NT 10.0; Win64; x64) AppleWebKit/537.36 (KHTML, like Gecko) Chrome/91.0.4472.124 Safari/537.36\",\n",
    "    }\n",
    "    response = requests.get(url, headers=headers)\n",
    "    soup = BeautifulSoup(response.content, \"html.parser\")\n",
    "    \n",
    "    # Try extracting price using potential eBay price tags\n",
    "    price = None\n",
    "    price_span = soup.find(\"span\", {\"class\": \"notranslate\"})\n",
    "    if price_span:\n",
    "        price = price_span.get_text(strip=True)\n",
    "    return price\n",
    "\n",
    "# Main function to get prices from supported e-commerce sites\n",
    "def get_price(url):\n",
    "    if \"amazon\" in url:\n",
    "        return get_amazon_price(url)\n",
    "    elif \"ebay\" in url:\n",
    "        return get_ebay_price(url)\n",
    "    else:\n",
    "        print(\"Website not supported.\")\n",
    "        return None\n",
    "\n",
    "# List of product URLs to scrape\n",
    "product_urls = [\n",
    "    \"https://www.amazon.in/s?k=waheguru+wall+art+by+BINDU+KAMBOJ&crid=3AD4V4I262QX3&sprefix=waheguru+wall+art+by+bindu+kamboj%2Caps%2C240&ref=nb_sb_noss\",  # Example Amazon product\n",
    "    \"https://www.amazon.in/Art-Doors-Horizontal-Personalized-Paintings/dp/B0D9LHTWNK/ref=sr_1_1?crid=29MWACATEO5M5&dib=eyJ2IjoiMSJ9.4plPmXLMMz_xND23SffYIC-qzjB84TiZkBeXJjn8md4.SkTDzywDyn5HbA2nSkJk7EIFAnOLLDSf4Fqt0R5mnDw&dib_tag=se&keywords=radha+krishna+by+BINDU+KAMBOJ&qid=1730708859&sprefix=radha+krishna+by+bindu+kamboj%2Caps%2C252&sr=8-1\"  # Example eBay product\n",
    "]\n",
    "\n",
    "# Fetch prices for each product\n",
    "for url in product_urls:\n",
    "    price = get_price(url)\n",
    "    if price:\n",
    "        print(f\"Price for {url}: {price}\")\n",
    "    else:\n",
    "        print(f\"Could not retrieve price for {url}\")\n"
   ]
  },
  {
   "cell_type": "code",
   "execution_count": 4,
   "id": "183e1f43-1d91-458a-b249-1453cebc56cb",
   "metadata": {},
   "outputs": [
    {
     "name": "stdout",
     "output_type": "stream",
     "text": [
      "Price for https://amzn.to/40xBNa5: 849..00\n",
      "Price for https://amzn.to/4fvfpTb: 999..00\n"
     ]
    }
   ],
   "source": [
    "import requests\n",
    "from bs4 import BeautifulSoup\n",
    "\n",
    "# Function to expand shortened URLs\n",
    "def expand_url(short_url):\n",
    "    response = requests.get(short_url, allow_redirects=True)\n",
    "    return response.url\n",
    "\n",
    "# Function to get product price from Amazon\n",
    "def get_amazon_price(url):\n",
    "    headers = {\n",
    "        \"User-Agent\": \"Mozilla/5.0 (Windows NT 10.0; Win64; x64) AppleWebKit/537.36 (KHTML, like Gecko) Chrome/91.0.4472.124 Safari/537.36\",\n",
    "        \"Accept-Language\": \"en-US,en;q=0.9\",\n",
    "    }\n",
    "    response = requests.get(url, headers=headers)\n",
    "    soup = BeautifulSoup(response.content, \"html.parser\")\n",
    "    \n",
    "    # Try extracting price using Amazon's price tag classes\n",
    "    price = None\n",
    "    price_whole = soup.find(\"span\", {\"class\": \"a-price-whole\"})\n",
    "    price_fraction = soup.find(\"span\", {\"class\": \"a-price-fraction\"})\n",
    "    \n",
    "    if price_whole and price_fraction:\n",
    "        price = f\"{price_whole.get_text(strip=True)}.{price_fraction.get_text(strip=True)}\"\n",
    "    \n",
    "    return price\n",
    "\n",
    "# Main function to get prices from supported e-commerce sites\n",
    "def get_price(url):\n",
    "    # Expand URL if it's an Amazon short link\n",
    "    if \"amzn.to\" in url:\n",
    "        url = expand_url(url)\n",
    "    \n",
    "    # Check if URL is an Amazon link after expansion\n",
    "    if \"amazon\" in url:\n",
    "        return get_amazon_price(url)\n",
    "    else:\n",
    "        print(\"Website not supported.\")\n",
    "        return None\n",
    "\n",
    "# List of product URLs to scrape (including Amazon short URLs)\n",
    "product_urls = [\n",
    "    \"https://amzn.to/40xBNa5\",   # Amazon short link\n",
    "    \"https://amzn.to/4fvfpTb\"    # Another Amazon short link\n",
    "]\n",
    "\n",
    "# Fetch prices for each product\n",
    "for url in product_urls:\n",
    "    price = get_price(url)\n",
    "    if price:\n",
    "        print(f\"Price for {url}: {price}\")\n",
    "    else:\n",
    "        print(f\"Could not retrieve price for {url}\")\n"
   ]
  },
  {
   "cell_type": "code",
   "execution_count": 1,
   "id": "0002f768-a70b-43af-ac1f-bb2975382aee",
   "metadata": {},
   "outputs": [],
   "source": [
    "import os"
   ]
  },
  {
   "cell_type": "code",
   "execution_count": 2,
   "id": "e36ab94e-e08f-4696-81dc-026c13952af3",
   "metadata": {},
   "outputs": [
    {
     "name": "stdout",
     "output_type": "stream",
     "text": [
      "C:\\Users\\Webs the Word\\Desktop\\docsBK\\python projects\n"
     ]
    }
   ],
   "source": [
    "print(os.getcwd())"
   ]
  },
  {
   "cell_type": "code",
   "execution_count": 13,
   "id": "2054fc35-1818-4811-b6ea-736026b64abe",
   "metadata": {},
   "outputs": [
    {
     "name": "stdout",
     "output_type": "stream",
     "text": [
      "Logging price for https://amzn.to/40xBNa5: $849..00\n",
      "Logging price for https://amzn.to/4fvfpTb: $999..00\n"
     ]
    }
   ],
   "source": [
    "import requests\n",
    "from bs4 import BeautifulSoup\n",
    "import csv\n",
    "from datetime import datetime\n",
    "\n",
    "# Function to get product price from Amazon\n",
    "def get_amazon_price(url):\n",
    "    headers = {\n",
    "        \"User-Agent\": \"Mozilla/5.0 (Windows NT 10.0; Win64; x64) AppleWebKit/537.36 (KHTML, like Gecko) Chrome/91.0.4472.124 Safari/537.36\",\n",
    "        \"Accept-Language\": \"en-US,en;q=0.9\",\n",
    "    }\n",
    "    response = requests.get(url, headers=headers)\n",
    "    soup = BeautifulSoup(response.content, \"html.parser\")\n",
    "    \n",
    "    # Extract the price\n",
    "    price = None\n",
    "    price_whole = soup.find(\"span\", {\"class\": \"a-price-whole\"})\n",
    "    price_fraction = soup.find(\"span\", {\"class\": \"a-price-fraction\"})\n",
    "    \n",
    "    if price_whole and price_fraction:\n",
    "        price = f\"{price_whole.get_text(strip=True)}.{price_fraction.get_text(strip=True)}\"\n",
    "        \n",
    "    return price\n",
    "\n",
    "# Function to log price data into a CSV file\n",
    "def log_price_to_csv(product_name, price, url):\n",
    "    with open(\"price_tracking.csv\", mode=\"a\", newline=\"\") as file:\n",
    "        writer = csv.writer(file)\n",
    "        \n",
    "        # Write header if file is empty\n",
    "        if file.tell() == 0:\n",
    "            writer.writerow([\"Timestamp\", \"Product Name\", \"Price\", \"URL\"])\n",
    "        \n",
    "        # Write the data row\n",
    "        timestamp = datetime.now().strftime(\"%Y-%m-%d %H:%M:%S\")\n",
    "        writer.writerow([timestamp, product_name, price, url])\n",
    "\n",
    "# Function to check price and log it (run this cell to log prices)\n",
    "def track_price():\n",
    "    product_urls = [\n",
    "    \"https://amzn.to/40xBNa5\",   # Amazon short link\n",
    "    \"https://amzn.to/4fvfpTb\"    # Another Amazon short link\n",
    "]\n",
    "    for url in product_urls:\n",
    "        price = get_amazon_price(url)\n",
    "        if price:\n",
    "            print(f\"Logging price for {url}: ${price}\")\n",
    "            log_price_to_csv(\"Unnamed Product\", price, url)\n",
    "        else:\n",
    "            print(f\"Could not retrieve price for {url}\")\n",
    "\n",
    "# Run the tracking function manually\n",
    "track_price()\n",
    "\n"
   ]
  },
  {
   "cell_type": "code",
   "execution_count": null,
   "id": "026dc083-ca2d-4b96-a09b-61652ad75048",
   "metadata": {},
   "outputs": [],
   "source": []
  }
 ],
 "metadata": {
  "kernelspec": {
   "display_name": "Python 3 (ipykernel)",
   "language": "python",
   "name": "python3"
  },
  "language_info": {
   "codemirror_mode": {
    "name": "ipython",
    "version": 3
   },
   "file_extension": ".py",
   "mimetype": "text/x-python",
   "name": "python",
   "nbconvert_exporter": "python",
   "pygments_lexer": "ipython3",
   "version": "3.8.6"
  }
 },
 "nbformat": 4,
 "nbformat_minor": 5
}
